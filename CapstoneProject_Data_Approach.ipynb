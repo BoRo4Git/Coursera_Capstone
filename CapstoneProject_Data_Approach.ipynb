{
 "cells": [
  {
   "cell_type": "markdown",
   "metadata": {},
   "source": [
    "### Data and Approach"
   ]
  },
  {
   "cell_type": "markdown",
   "metadata": {},
   "source": [
    "#### Approach"
   ]
  },
  {
   "cell_type": "markdown",
   "metadata": {},
   "source": [
    "##### Step1"
   ]
  },
  {
   "cell_type": "markdown",
   "metadata": {},
   "source": [
    "As a first step, US cities are investigated regarding their population, their growth and \n",
    "their location to find a well-suited city for a new movie theater. Larger cities above \n",
    "a defined limit (in this case population > 500,000) and with an increasing population are chosen.\n",
    "Using Foursquare.com for the selected group of cities, the venues are downloaded and the \n",
    "density of the significant venue categories (e.g. Restaurants, Bars, Coffee Shops) is computed.\n",
    "Subsequently, cities are selected that depict a higher than average density of such venue \n",
    "categories showing a vivid public life and a good customer base. Finally the cities are \n",
    "ordered according to their movie theater density with increasing density and evaluate the \n",
    "top 10 cities to identify the best-suited city."
   ]
  },
  {
   "cell_type": "markdown",
   "metadata": {},
   "source": [
    "##### Step2"
   ]
  },
  {
   "cell_type": "markdown",
   "metadata": {},
   "source": [
    "As a second step, the ZIP codes of the selected city are acquired and the venues and the \n",
    "population are requested for each of the different ZIP codes areas. This time, the ZIP code \n",
    "areas with the highest venue densities are pre-selected and compared to the density of \n",
    "coffee shops; this time, however 'only' to exclude areas that already include a large number \n",
    "of movie theaters. At last we end up with a ZIP code area of a specific city that is \n",
    "recommended as the hosting area to start the business."
   ]
  },
  {
   "cell_type": "markdown",
   "metadata": {},
   "source": [
    "#### Data"
   ]
  },
  {
   "cell_type": "markdown",
   "metadata": {},
   "source": [
    "Overview of the required Data\n",
    "1. List of cities and their population:\n",
    "    https://en.wikipedia.org/wiki/List_of_United_States_cities_by_population\n",
    "2. Zip codes for cities in the USA:\n",
    "    zip_code_database.csv from https://www.unitedstateszipcodes.org/zip-code-database/\n",
    "3. List of US state abbreviation (opt.):\n",
    "    https://en.wikipedia.org/wiki/List_of_U.S._state_abbreviations\n",
    "4. Detailed information of an area of a single zip code (e.g. Population, median resident age,...)\n",
    "    http://www.city-data.com/zips/\n",
    "5. Venue data from Foursquare.com:\n",
    "    https://foursquare.com/"
   ]
  }
 ],
 "metadata": {
  "kernelspec": {
   "display_name": "Python 3",
   "language": "python",
   "name": "python3"
  },
  "language_info": {
   "codemirror_mode": {
    "name": "ipython",
    "version": 3
   },
   "file_extension": ".py",
   "mimetype": "text/x-python",
   "name": "python",
   "nbconvert_exporter": "python",
   "pygments_lexer": "ipython3",
   "version": "3.6.7"
  }
 },
 "nbformat": 4,
 "nbformat_minor": 4
}
