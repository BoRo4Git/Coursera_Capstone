{
 "cells": [
  {
   "cell_type": "markdown",
   "metadata": {},
   "source": [
    "### Introduction to the business problem"
   ]
  },
  {
   "cell_type": "markdown",
   "metadata": {},
   "source": [
    "To establish a new business it requires a comprehensive preparation. A sound preparation \n",
    "is key to maximize the chance for a successful and prospering development in a \n",
    "competitive environment. A vital ingredient is the right location for the business \n",
    "and its well-examined assessment towards its selection.\n",
    "\n",
    "The key addressee of this project is a founder of a new business and, thus, will be \n",
    "highly interested in an assessment in order to identify a well-suited location for \n",
    "an upcoming business. The area of the survey comprises the largest cities within \n",
    "the United States. The recommendation for a certain site should rely on the venues \n",
    "in the vicinity of a possible location. The key addressee is aiming at establishing \n",
    "a single (or a few) coffee shop(s), but with the intention to expand to multiple \n",
    "shops in a city. Therefore, the goal of the project is to identify the city and \n",
    "neighborhood in the US that is well suited to host the business, i.e. nearby venues \n",
    "that are supportive for the business together with a privileged site concerning its \n",
    "competitors. \n",
    "\n",
    "In consequence, the approach is to identify a large city that exhibits an enhanced \n",
    "density of entertainment establishments but at the same time shows a lower than average \n",
    "density of coffee shops throughout the city, thus, displaying an undersupply of \n",
    "coffee shops. In a second step, the neighborhoods/ZIP code areas of the chosen city are \n",
    "investigated following a similar approach and to identify the best suited neighborhood/ZIP \n",
    "code area withing the selected city.\n",
    "\n",
    "The key addressee of the study is, therefore, the founder of a new business who receives \n",
    "key information about possible locations. However, apart from identifying a well-suited \n",
    "location to establish the business, the projects approach and its outcome can further be \n",
    "used by the founder as supplementary documentation for the communication with different \n",
    "stakeholders such as investors and banks. Furthermore, the latter group, banks and investors\n",
    "themselves, are addresses for this study, as they can use as the project findings for \n",
    "preparatory work in the context of investments.\n",
    "\n",
    "Hence, the project will address a topic that is of interest for various groups of \n",
    "persons with different perspectives on the result. "
   ]
  },
  {
   "cell_type": "code",
   "execution_count": null,
   "metadata": {},
   "outputs": [],
   "source": []
  }
 ],
 "metadata": {
  "kernelspec": {
   "display_name": "Python 3",
   "language": "python",
   "name": "python3"
  },
  "language_info": {
   "codemirror_mode": {
    "name": "ipython",
    "version": 3
   },
   "file_extension": ".py",
   "mimetype": "text/x-python",
   "name": "python",
   "nbconvert_exporter": "python",
   "pygments_lexer": "ipython3",
   "version": "3.6.7"
  }
 },
 "nbformat": 4,
 "nbformat_minor": 4
}
